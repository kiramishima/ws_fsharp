{
 "cells": [
  {
   "cell_type": "markdown",
   "metadata": {},
   "source": [
    "# Intro Data Science con Fsharp\n",
    "\n",
    "### Tenemos varias opciones, como escribir codigo o usar Markdown para escribir nuestros articulos y despues mostrar codigo o algun grafico.\n",
    "### Ahora realizaremos algunas operaciones basicas con Fsharp.\n"
   ]
  },
  {
   "cell_type": "code",
   "execution_count": 1,
   "metadata": {},
   "outputs": [],
   "source": [
    "open System\n",
    "\n",
    "[<EntryPoint>]\n",
    "let main argv =\n",
    "  printfn \"Hello World from F#!\\n\"\n",
    "  // Declaracion de variables\n",
    "  let a = 5\n",
    "  let b = 5\n",
    "  // Suma\n",
    "  let sum = a + b\n",
    "  printf \"%A\\n\" sum\n",
    "\n",
    "  // Sustracción\n",
    "  let sus = a - 3\n",
    "  printf \"%A\\n\" sus\n",
    "\n",
    "  //  Division\n",
    "  let div = a / b\n",
    "  printf \"%A\\n\" div\n",
    "\n",
    "  // Potencia\n",
    "  let pot = 10.0 ** 2.0\n",
    "  printf \"%A\\n\" pot\n",
    "  0"
   ]
  },
  {
   "cell_type": "markdown",
   "metadata": {},
   "source": [
    "# Trabajando con Nuget\n",
    "\n",
    "### Para usar las librerias de nuget haremos uso de la siguiente sintaxis `#r \"<nuget package>, <nuget package version>\"`\n",
    "### Ejemplo:\n",
    "#### #r \"nuget:Deedle, 2.1.2\"\n",
    "\n",
    "\n",
    "### En Fsharp vamos a usar las siguientes librerias:\n",
    "\n",
    "1. FSharp.Data\n",
    "    * Nos permitira trabajar con JSON, CSV, HTML de manera facil.\n",
    "2. Deedle\n",
    "    * Inspirado en pandas, nos permitira trabajar con Dataframes.\n",
    "3. XPlot\n",
    "    * Nos permite crear graficos en HTML muy similar a lo que hace Bokeh y Matplotlib"
   ]
  },
  {
   "cell_type": "code",
   "execution_count": 2,
   "metadata": {},
   "outputs": [],
   "source": [
    "#r \"nuget:FSharp.Data, 3.3.3\"\n",
    "#r \"nuget:Deedle, 2.1.2\"\n",
    "#r \"nuget:XPlot.GoogleCharts, 2.1.2\"\n",
    "#r \"nuget:XPlot.Plotly, 3.0.1\""
   ]
  },
  {
   "cell_type": "markdown",
   "metadata": {},
   "source": [
    "# Cargando datos de un CSV\n",
    "### Para cargar datos desde un archivo, usaremos Needle, usando la sintaxis:\n",
    "\n",
    "\n",
    "| let df  = Frame.ReadCsv(\"path_archivo_csv\")\n",
    "\n",
    "\n",
    "Para este ejemplo cargaremos un CSV sobre el clima desde el año 1986 a 2016\n"
   ]
  },
  {
   "cell_type": "code",
   "execution_count": 3,
   "metadata": {},
   "outputs": [
    {
     "data": {
      "text/html": [
       "Installing package FSharp.Data, version 3.3.3.done!"
      ]
     },
     "metadata": {},
     "output_type": "display_data"
    },
    {
     "data": {
      "text/html": [
       "Installing package Deedle, version 2.1.2.done!"
      ]
     },
     "metadata": {},
     "output_type": "display_data"
    },
    {
     "data": {
      "text/html": [
       "Installing package XPlot.GoogleCharts, version 2.1.2.done!"
      ]
     },
     "metadata": {},
     "output_type": "display_data"
    },
    {
     "data": {
      "text/html": [
       "Installing package XPlot.Plotly, version 3.0.1.done!"
      ]
     },
     "metadata": {},
     "output_type": "display_data"
    },
    {
     "name": "stdout",
     "output_type": "stream",
     "text": [
      "=============== S T A R T ==========================================\n",
      ">>>> C:\\Users\\kiramishima\\.nuget\\packages\\fsharp.data\\3.3.3\\typeproviders\\fsharp41\\netstandard2.0\\FSharp.Data.DesignTime.dll\n",
      ">>>> C:\\Users\\kiramishima\\.nuget\\packages\\fsharp.data\\3.3.3\\lib\\netstandard2.0\\FSharp.Data.DesignTime.dll\n",
      "Using: C:\\Users\\kiramishima\\.nuget\\packages\\fsharp.data\\3.3.3\\typeproviders\\fsharp41\\netstandard2.0\\FSharp.Data.DesignTime.dll\n",
      "       year degrees_celsius \n",
      "0   -> 1850 7.74            \n",
      "1   -> 1851 8.09            \n",
      "2   -> 1852 7.97            \n",
      "3   -> 1853 7.93            \n",
      "4   -> 1854 8.19            \n",
      "5   -> 1855 8.12            \n",
      "6   -> 1856 7.9             \n",
      "7   -> 1857 7.71            \n",
      "8   -> 1858 8.13            \n",
      "9   -> 1859 8.2             \n",
      "10  -> 1860 7.78            \n",
      "11  -> 1861 7.81            \n",
      "12  -> 1862 7.49            \n",
      "13  -> 1863 8.15            \n",
      "14  -> 1864 7.94            \n",
      ":      ...  ...             \n",
      "152 -> 2002 9.56            \n",
      "153 -> 2003 9.52            \n",
      "154 -> 2004 9.32            \n",
      "155 -> 2005 9.7             \n",
      "156 -> 2006 9.52            \n",
      "157 -> 2007 9.73            \n",
      "158 -> 2008 9.42            \n",
      "159 -> 2009 9.49            \n",
      "160 -> 2010 9.7             \n",
      "161 -> 2011 9.51            \n",
      "162 -> 2012 9.5             \n",
      "163 -> 2013 9.6             \n",
      "164 -> 2014 9.56            \n",
      "165 -> 2015 9.82            \n",
      "166 -> 2016 10.02           \n",
      "\n",
      "0 -> series [ year => 1850; degrees_celsius => 7.74] \n",
      "1 -> series [ year => 1851; degrees_celsius => 8.09] \n",
      "2 -> series [ year => 1852; degrees_celsius => 7.97] \n",
      "3 -> series [ year => 1853; degrees_celsius => 7.93] \n",
      "\n"
     ]
    },
    {
     "data": {
      "text/html": [
       "<null>"
      ]
     },
     "execution_count": 3,
     "metadata": {},
     "output_type": "execute_result"
    }
   ],
   "source": [
    "open Deedle\n",
    "\n",
    "let globalTemp  = Frame.ReadCsv(\"./_datasets/global_temperature.csv\")\n",
    "    \n",
    "// Para mostrar el contenido hacemos uso de Print\n",
    "globalTemp.Print()\n",
    "    \n",
    "// Para tomar los primeros 3 elementos del Dataframe, usaremos Rows.Beetwen\n",
    "globalTemp.Rows.Between(0, 3).Print()"
   ]
  },
  {
   "cell_type": "markdown",
   "metadata": {},
   "source": [
    "# Fsharp + Jupyter notebooks + plots = ♡\n",
    "\n",
    "### Si bien podemos imprimir el contenido de un Dataframe usando Print, no hay nada mejor como graficar nuestra informacion.\n",
    "### En Fsharp tenemos 2 opciones, en esta ocasion usaremos XPlot \n",
    "### La sintaxis es la siguiente:\n",
    "\n",
    "```fsharp\n",
    "open XPlot.Plotly\n",
    "\n",
    "let lineTrace1 =\n",
    "    Scatter(\n",
    "        x = <Arreglo de valores>,\n",
    "        y = <Arreglo de valores>\n",
    "    )\n",
    "\n",
    "```\n",
    "\n",
    "### Para agregar etiquetas a x & y y hacer mas bonita y entendible nuestro grafico, haremos uso de Layout.\n",
    "```fsharp\n",
    "let styledLayout =\n",
    "        Layout(\n",
    "            title = \"Titulo de Grafica\",\n",
    "            xaxis =\n",
    "                Xaxis(\n",
    "                    title = \"Label de xaxis\",\n",
    "                    showgrid = false,\n",
    "                    zeroline = false\n",
    "                ),\n",
    "            yaxis =\n",
    "                Yaxis(\n",
    "                    title = \"Label de ylabel\",\n",
    "                    showline = false\n",
    "                )\n",
    "        )\n",
    "```\n",
    "\n",
    "### Ahora solo debemos unir todo y mostrar nuestro grafico.\n",
    "```fsharp\n",
    "lineTrace1 |> Chart.Plot |> Chart.WithLayout styledLayout |> Chart.Show\n",
    "```"
   ]
  },
  {
   "cell_type": "code",
   "execution_count": 4,
   "metadata": {},
   "outputs": [
    {
     "data": {
      "text/html": [
       "<div id=\"6a04e5ae-6081-42fe-b666-868f8fd2c815\" style=\"width: 900px; height: 500px;\"></div><script type=\"text/javascript\">\r\n",
       "\r\n",
       "var renderPlotly = function() {\r\n",
       "    var xplotRequire = requirejs.config({context:'xplot-2.0.0',paths:{plotly:'https://cdn.plot.ly/plotly-1.49.2.min'}});\r\n",
       "    xplotRequire(['plotly'], function(Plotly) {\r\n",
       "\n",
       "            var data = [{\"type\":\"scatter\",\"x\":[1850,1851,1852,1853,1854,1855,1856,1857,1858,1859,1860,1861,1862,1863,1864,1865,1866,1867,1868,1869,1870,1871,1872,1873,1874,1875,1876,1877,1878,1879,1880,1881,1882,1883,1884,1885,1886,1887,1888,1889,1890,1891,1892,1893,1894,1895,1896,1897,1898,1899,1900,1901,1902,1903,1904,1905,1906,1907,1908,1909,1910,1911,1912,1913,1914,1915,1916,1917,1918,1919,1920,1921,1922,1923,1924,1925,1926,1927,1928,1929,1930,1931,1932,1933,1934,1935,1936,1937,1938,1939,1940,1941,1942,1943,1944,1945,1946,1947,1948,1949,1950,1951,1952,1953,1954,1955,1956,1957,1958,1959,1960,1961,1962,1963,1964,1965,1966,1967,1968,1969,1970,1971,1972,1973,1974,1975,1976,1977,1978,1979,1980,1981,1982,1983,1984,1985,1986,1987,1988,1989,1990,1991,1992,1993,1994,1995,1996,1997,1998,1999,2000,2001,2002,2003,2004,2005,2006,2007,2008,2009,2010,2011,2012,2013,2014,2015,2016],\"y\":[7.74,8.09,7.97,7.93,8.19,8.12,7.9,7.71,8.13,8.2,7.78,7.81,7.49,8.15,7.94,8.13,8.19,8.28,8.09,8.32,8.08,8.05,8.12,8.24,8.38,7.87,7.99,8.49,8.78,8.14,8.06,8.22,8.1,7.95,7.77,7.9,7.9,7.87,8.06,8.29,7.95,8.01,8.05,8.05,8.15,8.15,8.22,8.29,8.19,8.4,8.5,8.52,8.28,8.2,8.08,8.21,8.38,7.93,8.16,8.16,8.21,8.16,8.15,8.29,8.58,8.59,8.23,8.03,8.13,8.37,8.34,8.56,8.4,8.39,8.48,8.51,8.72,8.51,8.62,8.22,8.6,8.69,8.69,8.33,8.63,8.51,8.54,8.68,8.86,8.76,8.77,8.76,8.72,8.74,8.83,8.57,8.67,8.79,8.74,8.58,8.36,8.62,8.64,8.88,8.56,8.62,8.28,8.73,8.78,8.73,8.58,8.8,8.75,8.86,8.41,8.53,8.61,8.7,8.51,8.59,8.71,8.61,8.51,8.95,8.47,8.74,8.35,8.86,8.7,8.74,8.98,9.18,8.65,9.04,8.7,8.66,8.84,9.01,9.21,8.93,9.25,9.19,8.84,8.87,9.04,9.36,9.04,9.21,9.53,9.29,9.2,9.41,9.56,9.52,9.32,9.7,9.52,9.73,9.42,9.49,9.7,9.51,9.5,9.6,9.56,9.82,10.02],\"name\":\"\"}];\n",
       "            var layout = {\"title\":\"Temperature 1850 - 2016\",\"xaxis\":{\"title\":\"Years\",\"showgrid\":false,\"zeroline\":false,\"_isSubplotObj\":true},\"yaxis\":{\"title\":\"Degrees\",\"showline\":false,\"_isSubplotObj\":true}};\n",
       "            Plotly.newPlot('6a04e5ae-6081-42fe-b666-868f8fd2c815', data, layout);\n",
       "        });\r\n",
       "};\r\n",
       "if ((typeof(requirejs) !==  typeof(Function)) || (typeof(requirejs.config) !== typeof(Function))) { \r\n",
       "    var script = document.createElement(\"script\"); \r\n",
       "    script.setAttribute(\"src\", \"https://cdnjs.cloudflare.com/ajax/libs/require.js/2.3.6/require.min.js\"); \r\n",
       "    script.onload = function(){\r\n",
       "        renderPlotly();\r\n",
       "    };\r\n",
       "    document.getElementsByTagName(\"head\")[0].appendChild(script); \r\n",
       "}\r\n",
       "else {\r\n",
       "    renderPlotly();\r\n",
       "}\r\n",
       "</script>"
      ]
     },
     "metadata": {},
     "output_type": "display_data"
    }
   ],
   "source": [
    "open XPlot.Plotly\n",
    "\n",
    "// Obteniendo la Serie\n",
    "let year = globalTemp.GetColumn<int16>(\"year\")\n",
    "let degreesCelsius = globalTemp.GetColumn<double>(\"degrees_celsius\")\n",
    "    \n",
    "let lineTrace1 =\n",
    "    Scatter(\n",
    "        x = year.Values,\n",
    "        y = degreesCelsius.Values,\n",
    "        name = \"\"\n",
    "    )\n",
    "\n",
    "let styledLayout =\n",
    "    Layout(\n",
    "        title = \"Temperature 1850 - 2016\",\n",
    "        xaxis =\n",
    "            Xaxis(\n",
    "                title = \"Years\",\n",
    "                showgrid = false,\n",
    "                zeroline = false\n",
    "            ),\n",
    "        yaxis =\n",
    "            Yaxis(\n",
    "                title = \"Degrees\",\n",
    "                showline = false\n",
    "            )\n",
    "    )\n",
    "\n",
    "let chart = lineTrace1 |> Chart.Plot |> Chart.WithLayout styledLayout // |> Chart.Show\n",
    "display(chart)"
   ]
  },
  {
   "cell_type": "markdown",
   "metadata": {},
   "source": [
    "## Mapas en Jupyter Notebooks\n",
    "\n",
    "### Existen otras formas de representar la informacion, por ejemplo para representar datos sobre un mapa o indicar una zona podemos usar `XPlot.GoogleCharts`.\n",
    "### **XPlot.GoogleCharts** Tiene varias opciones entre las que se encuetran `Geo` & `Map`\n",
    "### Su Sintaxis es la siguiente:\n",
    "\n",
    "```fsharp\n",
    "// importamos XPlot.GoogleCharts\n",
    "open XPlot.GoogleCharts\n",
    "// Recibe un arreglo de tuplas, donde (Lat, Long, \"Label\")\n",
    "let companies = \n",
    "    [\n",
    "        (37.4970,  127.0266, \"Samsung: 20.5%\")\n",
    "        (37.3318, -122.0311, \"Apple: 14.4%\")\n",
    "        (22.5431,  114.0579, \"Huawei: 8.9%\")\n",
    "    ]\n",
    "\n",
    "// Creamos las opciones para indicar que deseamos ver markers en el mapa\n",
    "\n",
    "let options = XPlot.GoogleCharts.Options(showTooltips = true, displayMode=\"markers\")\n",
    "\n",
    "// Creamos el mapa & lo mostramos\n",
    "companies \n",
    "|> Chart.Geo\n",
    "|> Chart.WithOptions options\n",
    "|> Chart.Show\n",
    "```\n",
    "\n",
    "### Para poder mostrar el mapa debemos comentar el codigo del Grafico creado con Plotty , esto debido a que GoogleCharts hace uso del mismo namespace de Plotty"
   ]
  },
  {
   "cell_type": "code",
   "execution_count": 6,
   "metadata": {},
   "outputs": [
    {
     "data": {
      "text/html": [
       "<table><thead><tr><th>Height</th><th>Id</th><th>ApiKey</th><th>Width</th></tr></thead><tbody><tr><td>420</td><td>e4ee68f8-75e4-4557-b044-2e3358f80f43</td><td></td><td>-1</td></tr></tbody></table>"
      ]
     },
     "metadata": {},
     "output_type": "display_data"
    }
   ],
   "source": [
    "open XPlot.GoogleCharts\n",
    "\n",
    "let companies = \n",
    "    [\n",
    "        (37.4970,  127.0266, \"Samsung: 20.5%\")\n",
    "        (37.3318, -122.0311, \"Apple: 14.4%\")\n",
    "        (22.5431,  114.0579, \"Huawei: 8.9%\")\n",
    "    ]\n",
    "\n",
    "let options = Options(showTooltips = true, displayMode=\"markers\")\n",
    "\n",
    "let map = companies |> Chart.Geo |> Chart.WithOptions options |> Chart.WithHeight 420\n",
    "// map |> Chart.Show\n",
    "display(map)"
   ]
  },
  {
   "cell_type": "code",
   "execution_count": null,
   "metadata": {},
   "outputs": [],
   "source": []
  }
 ],
 "metadata": {
  "kernelspec": {
   "display_name": ".NET (F#)",
   "language": "F#",
   "name": ".net-fsharp"
  },
  "language_info": {
   "file_extension": ".fs",
   "mimetype": "text/x-fsharp",
   "name": "C#",
   "pygments_lexer": "fsharp",
   "version": "4.5"
  }
 },
 "nbformat": 4,
 "nbformat_minor": 4
}
