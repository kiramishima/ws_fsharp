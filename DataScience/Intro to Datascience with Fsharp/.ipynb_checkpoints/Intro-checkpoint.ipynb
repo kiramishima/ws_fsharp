{
 "cells": [
  {
   "cell_type": "code",
   "execution_count": null,
   "metadata": {},
   "outputs": [],
   "source": [
    "#r \"nuget:Deedle, 2.1.2\"\n",
    "#r \"nuget:FSharp.Data, 3.3.3\"\n",
    "#r \"nuget:FSharp.Charting, 2.1.0\""
   ]
  },
  {
   "cell_type": "code",
   "execution_count": null,
   "metadata": {},
   "outputs": [],
   "source": []
  }
 ],
 "metadata": {
  "kernelspec": {
   "display_name": ".NET (F#)",
   "language": "F#",
   "name": ".net-fsharp"
  },
  "language_info": {
   "name": ""
  }
 },
 "nbformat": 4,
 "nbformat_minor": 4
}
