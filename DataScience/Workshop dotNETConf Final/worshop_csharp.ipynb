{
 "cells": [
  {
   "cell_type": "markdown",
   "id": "cedf2194-e436-4226-9c3e-752aa14856ad",
   "metadata": {},
   "source": [
    "<img src=\"./cover.png\" />\n",
    "\n",
    "# Intro Notebooks con C#\n",
    "\n",
    "Tenemos varias opciones, como escribir codígo o usar Markdown para escribir nuestros articulos y despues mostrar nuestros resultados gracias a la ejecución del codígo.\n",
    "En este Workshop trabajaremos el caso de nuestro cliente Tailwind Sports.\n",
    "\n",
    "Así que lo primero que haremos sera cargar nuestras librerías a este espacio de trabajo."
   ]
  },
  {
   "cell_type": "markdown",
   "id": "6af06c0c-db67-42f9-b1d9-02e610e0a775",
   "metadata": {},
   "source": [
    "## Trabajando con Nuget Packages desde un Notebook\n",
    "\n",
    "Para usar las librerias de nuget haremos uso de la siguiente sintaxis : \n",
    "\n",
    "```\n",
    "#r \"<nuget package>, <nuget package version>\"\n",
    "```\n",
    "\n",
    "En este proyecto utilizaremos las sig. librerías:\n",
    "\n",
    "\n",
    "1. FSharp.Data : Nos permitira trabajar con servicios externos de manera facil.\n",
    "2. Deedle : Inspirada en pandas, nos permitira trabajar con Dataframes.\n",
    "3. XPlot.Plotly : Nos permite crear graficos en HTML muy similar a lo que hace Bokeh y Matplotlib en Python.\n",
    "4. Newtonsoft.Json : Libreria para trabajar con JSON "
   ]
  },
  {
   "cell_type": "code",
   "execution_count": 12,
   "id": "ee33445c-2f28-42b8-8416-cf74c82a7c26",
   "metadata": {
    "tags": []
   },
   "outputs": [
    {
     "data": {
      "text/html": [
       "<div><div></div><div></div><div></div></div>"
      ]
     },
     "metadata": {},
     "output_type": "display_data"
    }
   ],
   "source": [
    "#r \"nuget:FSharp.Data\"\n",
    "#r \"nuget:Deedle\"\n",
    "#r \"nuget: XPlot.Plotly, 4.0.6\"\n",
    "#r \"nuget: Newtonsoft.Json\"\n",
    "// #r \"nuget: XPlot.Plotly.Interactive, 4.0.6\" <- Descomentar, si usan .NET Notebooks"
   ]
  },
  {
   "cell_type": "markdown",
   "id": "33393781-2235-411b-8047-ce0d754f927e",
   "metadata": {},
   "source": [
    "# Cargando datos en un Dataframe con Deedle\n",
    "\n",
    "### Para cargar datos desde un archivo, usaremos Deedle, importamos el namespace de Deedle, y posteriormente usamos la siguiente sintaxis:\n",
    "\n",
    "```\n",
    "using Deedle;\n",
    "\n",
    "var df = Deedle.Frame.ReadCsv(\"archivo.csv\", separators: \",\", hasHeaders: true);\n",
    "\n",
    "# hasHeaders en caso de que el archivo CSV cuente con headers en la primera fila\n",
    "# separators indica el tipo de separadores usados en el CSV, comunmente veremos \",\", \";\" , \"\\t\" , etc \n",
    "```\n",
    "\n",
    "En este taller usaremos el archivo `tailwind_sports_db.csv` que se encuentra en el directorio de DATASET"
   ]
  },
  {
   "cell_type": "code",
   "execution_count": 13,
   "id": "3106a98f-9e3f-433f-aca2-d4d62afdebec",
   "metadata": {
    "tags": []
   },
   "outputs": [],
   "source": [
    "using Deedle;\n",
    "using System;\n",
    "using System.Globalization;\n",
    "\n",
    "var df = Deedle.Frame.ReadCsv(@\"./DATASET/tailwind_sports_db.csv\", separators: \",\", hasHeaders: true);"
   ]
  },
  {
   "cell_type": "markdown",
   "id": "3701f390-c83b-4652-853c-4f4a815393b9",
   "metadata": {},
   "source": [
    "#### Para visualizar los primeros 5 registros del dataframe, debemos usar la propiedad `Rows` y su metodo `Between`. Para imprimir usamos el metodo `Print` al final.\n",
    "\n",
    "\n",
    "dataframe.<b style=\"color: purple;\">Rows</b>.<b style=\"color: blue;\">Between</b>(<b style=\"color: green;\">indice 1</b>, <b style=\"color: orange;\">indice 2</b>)"
   ]
  },
  {
   "cell_type": "code",
   "execution_count": 14,
   "id": "918a645a-a451-4b10-84a5-6461cdfa52f4",
   "metadata": {
    "tags": []
   },
   "outputs": [
    {
     "name": "stdout",
     "output_type": "stream",
     "text": [
      "0 -> series [ Orden => 1; Fecha => 06/08/2017; Medio => Propio; Vendedor => Directo en Tienda; Plataforma => Website;  ... ; Ingreso => 40.00] \n",
      "1 -> series [ Orden => 1; Fecha => 06/08/2017; Medio => Propio; Vendedor => Directo en Tienda; Plataforma => Website;  ... ; Ingreso => 50.00] \n",
      "2 -> series [ Orden => 1; Fecha => 06/08/2017; Medio => Propio; Vendedor => Directo en Tienda; Plataforma => Website;  ... ; Ingreso => 36.00] \n",
      "3 -> series [ Orden => 1; Fecha => 06/08/2017; Medio => Propio; Vendedor => Directo en Tienda; Plataforma => Website;  ... ; Ingreso => 40.00] \n",
      "4 -> series [ Orden => 1; Fecha => 06/08/2017; Medio => Propio; Vendedor => Directo en Tienda; Plataforma => Website;  ... ; Ingreso => 50.00] \n",
      "5 -> series [ Orden => 1; Fecha => 06/08/2017; Medio => Propio; Vendedor => Directo en Tienda; Plataforma => Website;  ... ; Ingreso => 45.00] \n",
      "\n"
     ]
    }
   ],
   "source": [
    "df.Rows.Between(0, 5).Print();"
   ]
  },
  {
   "cell_type": "markdown",
   "id": "e59a56e4-c862-4c05-8fdb-acf320312c77",
   "metadata": {},
   "source": [
    "#### Para visualizar el listado de columnas que tiene nuestro Dataframe, usamos la propiedad `Columns` y su propiedad `Keys`. Usando el comodin especial `display` podemos visualizar el resultado en el notebook.\n",
    "\n",
    "\n",
    "<b style=\"color: orange;\">display</b><b style=\"color: green;\">(</b>**dataframe**.<b style=\"color: purple;\">Columns</b>.<b style=\"color: blue;\">Keys</b><b style=\"color: green;\">)</b>"
   ]
  },
  {
   "cell_type": "code",
   "execution_count": 15,
   "id": "5c33c30b-5ed4-48e5-9397-1f230f6a3826",
   "metadata": {
    "tags": []
   },
   "outputs": [
    {
     "data": {
      "text/html": [
       "<table><thead><tr><th><i>index</i></th><th>value</th></tr></thead><tbody><tr><td>0</td><td>Orden</td></tr><tr><td>1</td><td>Fecha</td></tr><tr><td>2</td><td>Medio</td></tr><tr><td>3</td><td>Vendedor</td></tr><tr><td>4</td><td>Plataforma</td></tr><tr><td>5</td><td>Comisi&#243;n</td></tr><tr><td>6</td><td>Tipo Orden</td></tr><tr><td>7</td><td>Tipo de Cliente</td></tr><tr><td>8</td><td>Sexo</td></tr><tr><td>9</td><td>Categor&#237;a</td></tr><tr><td>10</td><td>Producto</td></tr><tr><td>11</td><td>Ingreso</td></tr></tbody></table>"
      ]
     },
     "metadata": {},
     "output_type": "display_data"
    }
   ],
   "source": [
    "// Mostrar Columnas\n",
    "display(df.Columns.Keys)"
   ]
  },
  {
   "cell_type": "code",
   "execution_count": 16,
   "id": "db2858af-597b-4195-8509-f5115022fbeb",
   "metadata": {
    "tags": []
   },
   "outputs": [
    {
     "data": {
      "text/html": [
       "<table><thead><tr><th><i>index</i></th><th>value</th></tr></thead><tbody><tr><td>0</td><td><span><a href=\"https://docs.microsoft.com/dotnet/api/system.int32?view=net-5.0\">System.Int32</a></span></td></tr><tr><td>1</td><td><span><a href=\"https://docs.microsoft.com/dotnet/api/system.string?view=net-5.0\">System.String</a></span></td></tr><tr><td>2</td><td><span><a href=\"https://docs.microsoft.com/dotnet/api/system.string?view=net-5.0\">System.String</a></span></td></tr><tr><td>3</td><td><span><a href=\"https://docs.microsoft.com/dotnet/api/system.string?view=net-5.0\">System.String</a></span></td></tr><tr><td>4</td><td><span><a href=\"https://docs.microsoft.com/dotnet/api/system.string?view=net-5.0\">System.String</a></span></td></tr><tr><td>5</td><td><span><a href=\"https://docs.microsoft.com/dotnet/api/system.int32?view=net-5.0\">System.Int32</a></span></td></tr><tr><td>6</td><td><span><a href=\"https://docs.microsoft.com/dotnet/api/system.string?view=net-5.0\">System.String</a></span></td></tr><tr><td>7</td><td><span><a href=\"https://docs.microsoft.com/dotnet/api/system.string?view=net-5.0\">System.String</a></span></td></tr><tr><td>8</td><td><span><a href=\"https://docs.microsoft.com/dotnet/api/system.string?view=net-5.0\">System.String</a></span></td></tr><tr><td>9</td><td><span><a href=\"https://docs.microsoft.com/dotnet/api/system.string?view=net-5.0\">System.String</a></span></td></tr><tr><td>10</td><td><span><a href=\"https://docs.microsoft.com/dotnet/api/system.string?view=net-5.0\">System.String</a></span></td></tr><tr><td>11</td><td><span><a href=\"https://docs.microsoft.com/dotnet/api/system.decimal?view=net-5.0\">System.Decimal</a></span></td></tr></tbody></table>"
      ]
     },
     "metadata": {},
     "output_type": "display_data"
    }
   ],
   "source": [
    "// Mostrar el tipo de datos de cada columna\n",
    "display(df.ColumnTypes)"
   ]
  },
  {
   "cell_type": "markdown",
   "id": "d2ce8f32-72f3-425f-be94-76f2d241a1a2",
   "metadata": {},
   "source": [
    "# Ventas Totales\n",
    "\n",
    "De acuerdo al documento, Tailwind Sports desea conocer el total de las ventas, para ello debemos hacer la suma de nuestra columna `Ingreso` y aplicar la operacion suma. Así que para seleccionar una columna en especifico de un dataframe, usaremos la siguiente sintaxis:\n",
    "\n",
    "<b style=\"color: blue;\">df</b>[<b style=\"color: orange;\">columna</b>];\n",
    "\n",
    "Para aplicar la suma podemos la propiedad `Values`, el cual nos va regresar un Enumerable del tipo de dato, y podemos aplicar `Sum` de `System.Linq` y obtener el resultado. Pero para evitar hacer todo eso, usaremos la clase `Stats` y su metodo `sum`, al cual le pasamos la Serie seleccionada. Ejemplo:\n",
    "\n",
    "<b style=\"color: green;\">Stats</b>.**sum**(<b style=\"color: blue;\">df</b>[<b style=\"color: orange;\">columna</b>]);"
   ]
  },
  {
   "cell_type": "code",
   "execution_count": 17,
   "id": "323b97d5-8836-4f43-97c4-3885636bdb53",
   "metadata": {
    "tags": []
   },
   "outputs": [
    {
     "data": {
      "text/plain": [
       "Ventas Totales: $2,571,850.00"
      ]
     },
     "metadata": {},
     "output_type": "display_data"
    }
   ],
   "source": [
    "var vTotal = Stats.sum(df[\"Ingreso\"]);\n",
    "display($\"Ventas Totales: {vTotal.ToString(\"C\")}\")"
   ]
  },
  {
   "cell_type": "markdown",
   "id": "4c8c7208-b472-40aa-be60-9c6268fe762a",
   "metadata": {},
   "source": [
    "# Integracion de las ventas totales\n",
    "\n",
    "Si **$2,571,850.00** representa las ventas totales, queremos ver como se divide ese total entre compras y devoluciones. Para ello ocupamos filtrar por el `Tipo de Orden` . Para ello usaremos el metodo `FilterRowsBy` el cual recibe `columna a filtrar` y `valor a filtrar`.\n",
    "\n",
    "var df_filtrado = dataframe.<b style=\"color: purple;\">FilterRowsBy</b>(<b style=\"color: blue;\">\"columna\"</b>, <b style=\"color: green;\">\"Valor\"</b>)\n",
    "\n",
    "var serieFiltrada = dataframe.<b style=\"color: purple;\">FilterRowsBy</b>(<b style=\"color: blue;\">\"columna\"</b>, <b style=\"color: green;\">\"Valor\"</b>)[<b style=\"color: orange;\">\"Columna\"</b>]"
   ]
  },
  {
   "cell_type": "code",
   "execution_count": 18,
   "id": "706ae77f-127e-4c83-b1fb-929cd046bbac",
   "metadata": {
    "tags": []
   },
   "outputs": [
    {
     "data": {
      "text/html": [
       "<table><thead><tr><th>Compra</th><th>PercCompra</th><th>Devoluciones</th><th>PercDevoluciones</th><th>Total</th></tr></thead><tbody><tr><td><div class=\"dni-plaintext\">$2,340,276.00</div></td><td><div class=\"dni-plaintext\">91.00%</div></td><td><div class=\"dni-plaintext\">$231,574.00</div></td><td><div class=\"dni-plaintext\">9.00%</div></td><td><div class=\"dni-plaintext\">$2,571,850.00</div></td></tr></tbody></table>"
      ]
     },
     "metadata": {},
     "output_type": "display_data"
    }
   ],
   "source": [
    "var compras = Stats.sum(df.FilterRowsBy(\"Tipo Orden\", \"Compra\")[\"Ingreso\"]);\n",
    "var percCompras = compras/vTotal;\n",
    "var devoluciones = Stats.sum(df.FilterRowsBy(\"Tipo Orden\", \"Devolucion\")[\"Ingreso\"]);\n",
    "var percDevoluciones = devoluciones / vTotal;\n",
    "\n",
    "display(new {\n",
    "    Compra = compras.ToString(\"C\"),\n",
    "    PercCompra = percCompras.ToString(\"0.00%\"),\n",
    "    Devoluciones = devoluciones.ToString(\"C\"),\n",
    "    PercDevoluciones = percDevoluciones.ToString(\"0.00%\"),\n",
    "    Total = vTotal.ToString(\"C\")\n",
    "})"
   ]
  },
  {
   "cell_type": "markdown",
   "id": "7de8134f-1b9f-4ba7-af62-91994f716aee",
   "metadata": {},
   "source": [
    "# Graficar las ventas mensuales\n",
    "\n",
    "En este apartado procederemos a usar Xplot. Para ello debemos importar el namespace Xplot.Plotly , el cuál contiene todas las funciones necesarias para renderizar nuestras grafícas. A continuacion mostraremos la sintaxis basíca para una grafica de columnas o barras.\n",
    "\n",
    "```csharp\n",
    "\n",
    "using XPlot.Plotly;\n",
    "\n",
    "// valores\n",
    "var x = new  [] {\".NET\", \"Python\", \"Scala\"};\n",
    "var y = new  [] {20, 20, 20};\n",
    "\n",
    "// Generamos nuestro grafíco\n",
    "var chart = Chart.Plot(\n",
    "    new Bar\n",
    "    {\n",
    "        y = y,\n",
    "        x = x,\n",
    "        marker = new Marker{color = \"rgb(0, 0, 109)\"}\n",
    "    }\n",
    ");\n",
    "\n",
    "// Le damos estilo al \n",
    "var chart_layout = new Layout.Layout{\n",
    "    title=\"Titulo\",\n",
    "    xaxis =new Xaxis{\n",
    "        title = \"Texto Eje X\"\n",
    "    },\n",
    "    yaxis = new Yaxis{\n",
    "        title = \"Texto Eje Y\"\n",
    "    }\n",
    "};\n",
    "chart.WithLayout(chart3_layout);\n",
    "chart.Show(); // chart en el notebook\n",
    "```\n",
    "\n",
    "Antes de graficar, debemos agrupar nuestra informacion, para ello usaremos el metodo `GroupRowsUsing` el cual recibe una funcion anonima o lambda donde el primer elemento es el indice y el segundo elemento son los elementos de nuestro dataframe.\n",
    "\n",
    "```csharp\n",
    "\n",
    "var data = df.GroupRowsUsing((index, kvp) => kvp.GetAs<Type>(\"Columna\")).Nest().Observations\n",
    "    .Select(key => new {\n",
    "        // operacion\n",
    "    }).ToList()\n",
    "\n",
    "```\n",
    "\n",
    "Una vez agrupados, aplicamos el metodo Nest para crear una tupla entre el nuevo indice de la agrupacion y los valores que pertenecen a ese conjunto de datos. Posteriormente con la propiedad Observations convertimos el dataframe a tipo IEnumerable y con Select al estilo Linq armamos una nueva salida y convertimos esa salida a una Lista. Y luego pasamos a graficar nuestra información."
   ]
  },
  {
   "cell_type": "code",
   "execution_count": 19,
   "id": "c1b02654-4dac-4f02-a314-44819631cc68",
   "metadata": {
    "tags": []
   },
   "outputs": [
    {
     "data": {
      "text/html": [
       "<table><thead><tr><th><i>index</i></th><th>Mes</th><th>Total</th></tr></thead><tbody><tr><td>0</td><td>agosto</td><td><div class=\"dni-plaintext\">218232</div></td></tr><tr><td>1</td><td>octubre</td><td><div class=\"dni-plaintext\">246142</div></td></tr><tr><td>2</td><td>septiembre</td><td><div class=\"dni-plaintext\">238412</div></td></tr><tr><td>3</td><td>febrero</td><td><div class=\"dni-plaintext\">167106</div></td></tr><tr><td>4</td><td>mayo</td><td><div class=\"dni-plaintext\">199591</div></td></tr><tr><td>5</td><td>julio</td><td><div class=\"dni-plaintext\">229188</div></td></tr><tr><td>6</td><td>noviembre</td><td><div class=\"dni-plaintext\">204031</div></td></tr><tr><td>7</td><td>abril</td><td><div class=\"dni-plaintext\">195132</div></td></tr><tr><td>8</td><td>marzo</td><td><div class=\"dni-plaintext\">213630</div></td></tr><tr><td>9</td><td>diciembre</td><td><div class=\"dni-plaintext\">237670</div></td></tr><tr><td>10</td><td>junio</td><td><div class=\"dni-plaintext\">223577</div></td></tr><tr><td>11</td><td>enero</td><td><div class=\"dni-plaintext\">199139</div></td></tr></tbody></table>"
      ]
     },
     "metadata": {},
     "output_type": "display_data"
    }
   ],
   "source": [
    "// Lambda para obtener el mes\n",
    "Func<int, string> getMonthName = month => CultureInfo.CurrentCulture.DateTimeFormat.GetMonthName(month);\n",
    "\n",
    "// Agrupando nuestros datos\n",
    "var data = df.GroupRowsUsing((x, kvp) => getMonthName(kvp.GetAs<DateTime>(\"Fecha\").Month))\n",
    "    .Nest().Observations.Select(key => new {\n",
    "        Mes = key.Key,\n",
    "        Total = Stats.sum(key.Value.GetColumn<double>(\"Ingreso\"))\n",
    "    }).ToList();\n",
    "\n",
    "display(data);"
   ]
  },
  {
   "cell_type": "code",
   "execution_count": 21,
   "id": "39242253-268d-4952-90f5-0f28b12b0fb6",
   "metadata": {},
   "outputs": [],
   "source": [
    "// Graficando\n",
    "using XPlot.Plotly;\n",
    "\n",
    "\n",
    "// Graficando\n",
    "var chart = Chart.Plot(\n",
    "    new Scatter\n",
    "    {\n",
    "        x = data.Select(k => k.Mes).ToArray(),\n",
    "        y = data.Select(k => k.Total).ToArray(),\n",
    "        marker = new Marker{color = \"rgb(0, 0, 109)\"}\n",
    "    }\n",
    ");\n",
    "\n",
    "var chart_layout = new Layout.Layout{\n",
    "    title=\"Ventas Mensuales\",\n",
    "    xaxis =new Xaxis{\n",
    "        title = \"Meses\"\n",
    "    },\n",
    "    yaxis = new Yaxis{\n",
    "        title = \"Ingreso\"\n",
    "    }\n",
    "};\n",
    "chart.WithLayout(chart_layout);\n",
    "chart.Show() // usar solo chart si usan .NET Notebooks"
   ]
  },
  {
   "cell_type": "markdown",
   "id": "a6296a01-4086-41b6-a8fe-02aaefa5c5aa",
   "metadata": {},
   "source": [
    "## Finalmente , nuestro ultimo requerimiento consiste en graficar el comportamiento de sus ventas en las diferentes plataformas donde vende sus productos la empresa.\n",
    "\n",
    "Para ello agruparemos sobre la columna: **Plataforma**"
   ]
  },
  {
   "cell_type": "code",
   "execution_count": 22,
   "id": "0a89fbe6-6fa0-442b-b392-0ccf839c2bf1",
   "metadata": {
    "tags": []
   },
   "outputs": [],
   "source": [
    "// agrupando x plataforma\n",
    "var gplataformas = df.GroupRowsUsing((x, kvp) => kvp.GetAs<string>(\"Plataforma\"))\n",
    "    .Nest().Observations.Select(key => new {\n",
    "    Plataforma = key.Key,\n",
    "    Total = Stats.sum(key.Value.GetColumn<double>(\"Ingreso\"))\n",
    "}).ToList();"
   ]
  },
  {
   "cell_type": "code",
   "execution_count": 23,
   "id": "bd48befa",
   "metadata": {},
   "outputs": [],
   "source": [
    "// Graficando\n",
    "var chart2 = Chart.Plot(\n",
    "    new Bar\n",
    "    {\n",
    "        x = gplataformas.Select(x => x.Plataforma),\n",
    "        y = gplataformas.Select(x => x.Total),        \n",
    "        marker = new Marker{color = \"rgb(0, 0, 109)\"}\n",
    "    }\n",
    ");\n",
    "var chart2_layout = new Layout.Layout{\n",
    "    title=\"Ventas x Plataforma\",\n",
    "    xaxis =new Xaxis{\n",
    "        title = \"Plataforma\"\n",
    "    },\n",
    "    yaxis = new Yaxis{\n",
    "        title = \"Ingreso\"\n",
    "    }           \n",
    "};\n",
    "chart2.Show() // usar solo chart si usan .NET Notebooks"
   ]
  },
  {
   "cell_type": "code",
   "execution_count": null,
   "id": "2b6af835-9c57-4ec2-afd3-fb9228fa690c",
   "metadata": {},
   "outputs": [],
   "source": []
  }
 ],
 "metadata": {
  "kernelspec": {
   "display_name": ".NET (C#)",
   "language": "C#",
   "name": ".net-csharp"
  },
  "language_info": {
   "file_extension": ".cs",
   "mimetype": "text/x-csharp",
   "name": "C#",
   "pygments_lexer": "csharp",
   "version": "9.0"
  }
 },
 "nbformat": 4,
 "nbformat_minor": 5
}
