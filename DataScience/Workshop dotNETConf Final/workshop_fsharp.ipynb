{
 "cells": [
  {
   "cell_type": "markdown",
   "id": "486e692d-75cc-4b9f-badd-27cb950c2a41",
   "metadata": {},
   "source": [
    "![](./cover.png \"\")\n",
    "\n",
    "# Intro Notebooks con F#\n",
    "\n",
    "Tenemos varias opciones, como escribir codígo o usar Markdown para escribir nuestros articulos y despues mostrar nuestros resultados gracias a la ejecución del codígo.\n",
    "En este Workshop trabajaremos el caso de nuestro cliente Tailwind Sports.\n",
    "\n",
    "Así que lo primero que haremos sera cargar nuestras librerías a este espacio de trabajo."
   ]
  },
  {
   "cell_type": "markdown",
   "id": "24c7e240-e7e2-42a0-b853-a874582ae9ea",
   "metadata": {},
   "source": [
    "## Trabajando con Nuget Packages desde un Notebook\n",
    "\n",
    "Para usar las librerias de nuget haremos uso de la siguiente sintaxis : \n",
    "\n",
    "```\n",
    "#r \"<nuget package>, <nuget package version>\"\n",
    "```\n",
    "\n",
    "En este proyecto utilizaremos las sig. librerías:\n",
    "\n",
    "\n",
    "1. FSharp.Data : Nos permitira trabajar con servicios externos de manera facil.\n",
    "2. Deedle : Inspirada en pandas, nos permitira trabajar con Dataframes.\n",
    "3. Plotly.NET : Nos permite crear graficos en HTML muy similar a lo que hace Bokeh y Matplotlib en Python.\n",
    "4. Newtonsoft.Json : Libreria para trabajar con JSON "
   ]
  },
  {
   "cell_type": "code",
   "execution_count": 19,
   "id": "a2a1ef8c-1d26-4ddb-847d-4621bc5a5455",
   "metadata": {},
   "outputs": [
    {
     "data": {
      "text/html": [
       "<div><div></div><div></div><div></div></div>"
      ]
     },
     "metadata": {},
     "output_type": "display_data"
    }
   ],
   "source": [
    "#r \"nuget:FSharp.Data\"\n",
    "#r \"nuget:Deedle\"\n",
    "#r \"nuget: Plotly.NET, 2.0.0-preview.14\"\n",
    "#r \"nuget: Plotly.NET.Interactive, 2.0.0-preview.14\"\n",
    "#r \"nuget: Newtonsoft.Json\""
   ]
  },
  {
   "cell_type": "markdown",
   "id": "0f1c4ee9-0502-4ebf-899a-b3467893b5f2",
   "metadata": {},
   "source": [
    "# Cargando datos en un Dataframe con Deedle\n",
    "\n",
    "### Para cargar datos desde un archivo, usaremos Deedle, importamos el namespace de Deedle, y posteriormente usamos la siguiente sintaxis:\n",
    "\n",
    "```\n",
    "using Deedle;\n",
    "\n",
    "var df = Deedle.Frame.ReadCsv(\"archivo.csv\", separators: \",\", hasHeaders: true);\n",
    "\n",
    "# hasHeaders en caso de que el archivo CSV cuente con headers en la primera fila\n",
    "# separators indica el tipo de separadores usados en el CSV, comunmente veremos \",\", \";\" , \"\\t\" , etc \n",
    "```\n",
    "\n",
    "En este taller usaremos el archivo `tailwind_sports_db.csv` que se encuentra en el directorio de DATASET"
   ]
  },
  {
   "cell_type": "code",
   "execution_count": 4,
   "id": "01b5cb0d-d5bc-4bc9-9086-97995c379657",
   "metadata": {},
   "outputs": [],
   "source": [
    "open Deedle\n",
    "open System\n",
    "open System.Globalization\n",
    "\n",
    "let df = Frame.ReadCsv(@\"./DATASET/tailwind_sports_db.csv\", separators=\",\", hasHeaders= true)"
   ]
  },
  {
   "cell_type": "markdown",
   "id": "21011e48-bdc5-4062-b162-a831babbf127",
   "metadata": {},
   "source": [
    "#### Para visualizar los primeros 5 registros del dataframe, debemos usar la propiedad `Rows` y su metodo `Between`. Para imprimir usamos el metodo `Print` al final.\n",
    "\n",
    "\n",
    "dataframe.<b style=\"color: purple;\">Rows</b>.<b style=\"color: blue;\">Between</b>(<b style=\"color: green;\">indice 1</b>, <b style=\"color: orange;\">indice 2</b>).**Print**()"
   ]
  },
  {
   "cell_type": "code",
   "execution_count": 6,
   "id": "4ce58c03-95a1-4ba9-a01c-166fa25156b5",
   "metadata": {},
   "outputs": [
    {
     "name": "stdout",
     "output_type": "stream",
     "text": [
      "0 -> series [ Orden => 1; Fecha => 06/08/2017; Medio => Propio; Vendedor => Directo en Tienda; Plataforma => Website;  ... ; Ingreso => 40.00] \n",
      "1 -> series [ Orden => 1; Fecha => 06/08/2017; Medio => Propio; Vendedor => Directo en Tienda; Plataforma => Website;  ... ; Ingreso => 50.00] \n",
      "2 -> series [ Orden => 1; Fecha => 06/08/2017; Medio => Propio; Vendedor => Directo en Tienda; Plataforma => Website;  ... ; Ingreso => 36.00] \n",
      "3 -> series [ Orden => 1; Fecha => 06/08/2017; Medio => Propio; Vendedor => Directo en Tienda; Plataforma => Website;  ... ; Ingreso => 40.00] \n",
      "4 -> series [ Orden => 1; Fecha => 06/08/2017; Medio => Propio; Vendedor => Directo en Tienda; Plataforma => Website;  ... ; Ingreso => 50.00] \n",
      "5 -> series [ Orden => 1; Fecha => 06/08/2017; Medio => Propio; Vendedor => Directo en Tienda; Plataforma => Website;  ... ; Ingreso => 45.00] \n",
      "\n"
     ]
    }
   ],
   "source": [
    "df.Rows.Between(0, 5).Print()"
   ]
  },
  {
   "cell_type": "markdown",
   "id": "ce83782d-affd-420c-a4af-12beb6cdc2f4",
   "metadata": {},
   "source": [
    "#### Para visualizar el listado de columnas que tiene nuestro Dataframe, usamos la propiedad `Columns` y su propiedad `Keys`. Usando el comodin especial `display` podemos visualizar el resultado en el notebook.\n",
    "\n",
    "\n",
    "<b style=\"color: orange;\">display</b><b style=\"color: green;\">(</b>**dataframe**.<b style=\"color: purple;\">Columns</b>.<b style=\"color: blue;\">Keys</b><b style=\"color: green;\">)</b>"
   ]
  },
  {
   "cell_type": "code",
   "execution_count": 5,
   "id": "05bb4da2-a3c9-4b7d-9ab7-b412c75f2807",
   "metadata": {},
   "outputs": [
    {
     "data": {
      "text/html": [
       "<table><thead><tr><th><i>index</i></th><th>value</th></tr></thead><tbody><tr><td>0</td><td>Orden</td></tr><tr><td>1</td><td>Fecha</td></tr><tr><td>2</td><td>Medio</td></tr><tr><td>3</td><td>Vendedor</td></tr><tr><td>4</td><td>Plataforma</td></tr><tr><td>5</td><td>Comisi&#243;n</td></tr><tr><td>6</td><td>Tipo Orden</td></tr><tr><td>7</td><td>Tipo de Cliente</td></tr><tr><td>8</td><td>Sexo</td></tr><tr><td>9</td><td>Categor&#237;a</td></tr><tr><td>10</td><td>Producto</td></tr><tr><td>11</td><td>Ingreso</td></tr></tbody></table>"
      ]
     },
     "metadata": {},
     "output_type": "display_data"
    }
   ],
   "source": [
    "// Ver Columnas de nuestro Dataframe\n",
    "display(df.Columns.Keys)"
   ]
  },
  {
   "cell_type": "code",
   "execution_count": 7,
   "id": "8085173d-9d6d-4e95-aa87-af44903d441c",
   "metadata": {},
   "outputs": [
    {
     "data": {
      "text/html": [
       "<table><thead><tr><th><i>index</i></th><th>value</th></tr></thead><tbody><tr><td>0</td><td><span><a href=\"https://docs.microsoft.com/dotnet/api/system.int32?view=net-5.0\">System.Int32</a></span></td></tr><tr><td>1</td><td><span><a href=\"https://docs.microsoft.com/dotnet/api/system.string?view=net-5.0\">System.String</a></span></td></tr><tr><td>2</td><td><span><a href=\"https://docs.microsoft.com/dotnet/api/system.string?view=net-5.0\">System.String</a></span></td></tr><tr><td>3</td><td><span><a href=\"https://docs.microsoft.com/dotnet/api/system.string?view=net-5.0\">System.String</a></span></td></tr><tr><td>4</td><td><span><a href=\"https://docs.microsoft.com/dotnet/api/system.string?view=net-5.0\">System.String</a></span></td></tr><tr><td>5</td><td><span><a href=\"https://docs.microsoft.com/dotnet/api/system.int32?view=net-5.0\">System.Int32</a></span></td></tr><tr><td>6</td><td><span><a href=\"https://docs.microsoft.com/dotnet/api/system.string?view=net-5.0\">System.String</a></span></td></tr><tr><td>7</td><td><span><a href=\"https://docs.microsoft.com/dotnet/api/system.string?view=net-5.0\">System.String</a></span></td></tr><tr><td>8</td><td><span><a href=\"https://docs.microsoft.com/dotnet/api/system.string?view=net-5.0\">System.String</a></span></td></tr><tr><td>9</td><td><span><a href=\"https://docs.microsoft.com/dotnet/api/system.string?view=net-5.0\">System.String</a></span></td></tr><tr><td>10</td><td><span><a href=\"https://docs.microsoft.com/dotnet/api/system.string?view=net-5.0\">System.String</a></span></td></tr><tr><td>11</td><td><span><a href=\"https://docs.microsoft.com/dotnet/api/system.decimal?view=net-5.0\">System.Decimal</a></span></td></tr></tbody></table>"
      ]
     },
     "metadata": {},
     "output_type": "display_data"
    }
   ],
   "source": [
    "// Ver tipo de datos de las columnas\n",
    "display(df.ColumnTypes)"
   ]
  },
  {
   "cell_type": "markdown",
   "id": "04315d21-468d-4a3d-a560-b82750b7e6c8",
   "metadata": {},
   "source": [
    "# Ventas Totales\n",
    "\n",
    "De acuerdo al documento, Tailwind Sports desea conocer el total de las ventas, para ello debemos hacer la suma de nuestra columna `Ingreso` y aplicar la operacion suma. Así que para seleccionar una columna en especifico de un dataframe, usaremos la siguiente sintaxis:\n",
    "\n",
    "<b style=\"color: blue;\">df</b>[<b style=\"color: orange;\">columna</b>];\n",
    "\n",
    "Para aplicar la suma podemos la propiedad `Values`, el cual nos va regresar un Enumerable del tipo de dato, y podemos aplicar `Sum` de `System.Linq` y obtener el resultado. Pero para evitar hacer todo eso, usaremos la clase `Stats` y su metodo `sum`, al cual le pasamos la Serie seleccionada. Ejemplo:\n",
    "\n",
    "<b style=\"color: green;\">Stats</b>.**sum**(<b style=\"color: blue;\">df</b>[<b style=\"color: orange;\">columna</b>]);"
   ]
  },
  {
   "cell_type": "code",
   "execution_count": 8,
   "id": "739cd33f-e783-44a8-bf79-51ab03719849",
   "metadata": {},
   "outputs": [
    {
     "data": {
      "text/plain": [
       "Ventas Totales: $2,571,850.00"
      ]
     },
     "metadata": {},
     "output_type": "display_data"
    }
   ],
   "source": [
    "let x = df.GetColumn(\"Ingreso\") |> Stats.sum\n",
    "let vTotal = x.ToString \"C\"\n",
    "display($\"Ventas Totales: {vTotal}\")"
   ]
  },
  {
   "cell_type": "markdown",
   "id": "f31a2b06-e3c5-472d-b9a7-571335f27db9",
   "metadata": {},
   "source": [
    "# Integracion de las ventas totales\n",
    "\n",
    "Si **$2,571,850.00** representa las ventas totales, queremos ver como se divide ese total entre compras y devoluciones. Para ello ocupamos filtrar por el `Tipo de Orden` . Para ello usaremos el metodo `FilterRowsBy` el cual recibe `columna a filtrar` y `valor a filtrar`.\n",
    "\n",
    "var df_filtrado = dataframe.<b style=\"color: purple;\">FilterRowsBy</b>(<b style=\"color: blue;\">\"columna\"</b>, <b style=\"color: green;\">\"Valor\"</b>)\n",
    "\n",
    "var serieFiltrada = dataframe.<b style=\"color: purple;\">FilterRowsBy</b>(<b style=\"color: blue;\">\"columna\"</b>, <b style=\"color: green;\">\"Valor\"</b>).[<b style=\"color: orange;\">\"Columna\"</b>]"
   ]
  },
  {
   "cell_type": "code",
   "execution_count": 9,
   "id": "46e32cab-cdc2-4571-8e60-441da26d2770",
   "metadata": {},
   "outputs": [
    {
     "data": {
      "text/html": [
       "<table><thead><tr><th>Compra</th><th>PercCompra</th><th>Devoluciones</th><th>PercDevoluciones</th><th>Total</th></tr></thead><tbody><tr><td><div class=\"dni-plaintext\">$2,340,276.00</div></td><td><div class=\"dni-plaintext\">91.00%</div></td><td><div class=\"dni-plaintext\">$231,574.00</div></td><td><div class=\"dni-plaintext\">9.00%</div></td><td><div class=\"dni-plaintext\">$2,571,850.00</div></td></tr></tbody></table>"
      ]
     },
     "metadata": {},
     "output_type": "display_data"
    }
   ],
   "source": [
    "let compras = df.FilterRowsBy(\"Tipo Orden\", \"Compra\").[\"Ingreso\"] |> Stats.sum\n",
    "let percCompras = compras / x\n",
    "let devoluciones = df.FilterRowsBy(\"Tipo Orden\", \"Devolucion\").[\"Ingreso\"] |> Stats.sum\n",
    "let percDevoluciones = devoluciones / x\n",
    "\n",
    "type IntegracionVentasPerc(compra, pcompra, devolucion, pdevolucion, total) =\n",
    "    member this.Compra = compra\n",
    "    member this.PercCompra = pcompra\n",
    "    member this.Devoluciones = devolucion\n",
    "    member this.PercDevoluciones = pdevolucion\n",
    "    member this.Total = total\n",
    "\n",
    "let integracion = IntegracionVentasPerc(compras.ToString(\"C\"), percCompras.ToString(\"0.00%\"), devoluciones.ToString(\"C\"), percDevoluciones.ToString(\"0.00%\"), x.ToString(\"C\"))\n",
    "\n",
    "display(integracion)"
   ]
  },
  {
   "cell_type": "markdown",
   "id": "bbf2f2c8-dc64-4eaa-a769-edd8b5c73ee8",
   "metadata": {},
   "source": [
    "# Graficar las ventas mensuales\n",
    "\n",
    "En este apartado procederemos a usar Plotly. Para ello debemos importar el namespace Plotly.NET , el cuál contiene todas las funciones necesarias para renderizar nuestras grafícas. A continuacion mostraremos la sintaxis basíca para una grafica de columnas o barras.\n",
    "\n",
    "```fsharp\n",
    "\n",
    "open Plotly.NET\n",
    "open Plotly.NET.LayoutObjects\n",
    "open Plotly.NET.TraceObjects\n",
    "\n",
    "// valores\n",
    "let x =  [|10; 20; 30; 40; 50 |]\n",
    "let y = [| \"A\"; \"B\"; \"C\"; \"D\"; \"E\" |];\n",
    "\n",
    "\n",
    "// Le damos mas estilo\n",
    "let mirroredXAxis =\n",
    "    LinearAxis.init(\n",
    "        Title = Title.init(Text=\"Texto Eje X\"),\n",
    "        ShowLine = true,\n",
    "        Mirror = StyleParam.Mirror.AllTicks,\n",
    "        ShowGrid = false,\n",
    "        Ticks = StyleParam.TickOptions.Inside\n",
    "    )\n",
    "\n",
    "let mirroredLogYAxis = \n",
    "    LinearAxis.init(\n",
    "        Title = Title.init(Text=\"Texto Eje Y\"),\n",
    "        AxisType = StyleParam.AxisType.Auto,\n",
    "        ShowLine = true,\n",
    "        Mirror = StyleParam.Mirror.AllTicks,\n",
    "        ShowGrid = false,\n",
    "        Ticks = StyleParam.TickOptions.Inside\n",
    "    )\n",
    "\n",
    "let chart_layout = \n",
    "    let tmp = Layout()\n",
    "    tmp?title<- \"Titulo Grafica\"\n",
    "    tmp?xaxis<- mirroredXAxis\n",
    "    tmp?yaxis<- mirroredLogYAxis\n",
    "    tmp\n",
    "\n",
    "let colors = x2 |> Array.map (fun name -> match name with\n",
    "                                                                |\"A\" -> Color.fromString \"green\"\n",
    "                                                                |\"B\" -> Color.fromString \"blue\"\n",
    "                                                                |\"C\" -> Color.fromString \"red\"\n",
    "                                                                |\"D\" -> Color.fromString \"brown\"\n",
    "                                                                |_ -> Color.fromString \"deeppink\") |> Color.fromColors\n",
    "\n",
    "let markers = Marker.init(Color=colors)\n",
    "\n",
    "// Creamos el grafico\n",
    "Chart.Column(y,x)\n",
    "    |> Chart.withLineStyle(Width=2.,Dash=StyleParam.DrawingStyle.Dot)\n",
    "    |> Chart.withLayout chart_layout\n",
    "    |> Chart.withMarker markers\n",
    "```\n",
    "\n",
    "Antes de graficar, debemos agrupar nuestra informacion, para ello usaremos el metodo `groupRowsUsing` del modulo `Frame` el cual recibe una lambda donde el primer elemento es el indice y el segundo elemento son los elementos de nuestro dataframe.\n",
    "\n",
    "```fsharp\n",
    "\n",
    "// Ejemplo\n",
    "let data = df |> Frame.groupRowsUsing(fun selector frame -> frame.GetAs<Type>(\"Columna\"))\n",
    "   |> Frame.nest\n",
    "   |> Series.observations\n",
    "   |> Seq.map (fun ((m, y), frame) ->\n",
    "        // operacion\n",
    "   |> Seq.toList\n",
    "\n",
    "```\n",
    "\n",
    "Una vez agrupados, aplicamos el metodo `nest` del modulo `Frame` para crear una tupla entre el nuevo indice de la agrupacion y los valores que pertenecen a ese conjunto de datos. Posteriormente el metodo `observations` del modulo `Series` convertimos el resultado en `key` - `value`.\n",
    "Finalmente con el modulo Seq recorremos el arreglo y armamos la salida para finalmente convertirlo a lista."
   ]
  },
  {
   "cell_type": "code",
   "execution_count": 10,
   "id": "6b4d2d3c-6765-44ce-a714-4c6fd2c121c2",
   "metadata": {},
   "outputs": [],
   "source": [
    "// Pasando un tipo de dato a otro tipo\n",
    "let dts = df.GetColumn<string>(\"Fecha\").Values |> Seq.map (fun x -> DateTime.Parse x)\n",
    "df?Fecha <- dts"
   ]
  },
  {
   "cell_type": "code",
   "execution_count": 11,
   "id": "87442e5c-637b-4dc5-bb60-1ed2d0874911",
   "metadata": {},
   "outputs": [
    {
     "data": {
      "text/html": [
       "<table><thead><tr><th><i>index</i></th><th>Mes</th><th>Venta</th></tr></thead><tbody><tr><td>0</td><td>agosto</td><td><div class=\"dni-plaintext\">218232</div></td></tr><tr><td>1</td><td>octubre</td><td><div class=\"dni-plaintext\">246142</div></td></tr><tr><td>2</td><td>septiembre</td><td><div class=\"dni-plaintext\">238412</div></td></tr><tr><td>3</td><td>febrero</td><td><div class=\"dni-plaintext\">167106</div></td></tr><tr><td>4</td><td>mayo</td><td><div class=\"dni-plaintext\">199591</div></td></tr><tr><td>5</td><td>julio</td><td><div class=\"dni-plaintext\">229188</div></td></tr><tr><td>6</td><td>noviembre</td><td><div class=\"dni-plaintext\">204031</div></td></tr><tr><td>7</td><td>abril</td><td><div class=\"dni-plaintext\">195132</div></td></tr><tr><td>8</td><td>marzo</td><td><div class=\"dni-plaintext\">213630</div></td></tr><tr><td>9</td><td>diciembre</td><td><div class=\"dni-plaintext\">237670</div></td></tr><tr><td>10</td><td>junio</td><td><div class=\"dni-plaintext\">223577</div></td></tr><tr><td>11</td><td>enero</td><td><div class=\"dni-plaintext\">199139</div></td></tr></tbody></table>"
      ]
     },
     "metadata": {},
     "output_type": "display_data"
    }
   ],
   "source": [
    "// Funcion para obtener el nombre del mes\n",
    "let getMonthName (month:int) =\n",
    "    CultureInfo.CurrentCulture.DateTimeFormat.GetMonthName month\n",
    "\n",
    "// Type para darle mejor salida a la informacion\n",
    "type MesVenta(mes, venta) =\n",
    "    member this.Mes = mes\n",
    "    member this.Venta = venta\n",
    "    \n",
    "// Agrupando\n",
    "\n",
    "\n",
    "let data = df |> Frame.groupRowsUsing(fun _ c -> c.GetAs<DateTime>(\"Fecha\").Month |> getMonthName)\n",
    "        |> Frame.nest\n",
    "        |> Series.observations\n",
    "        |> Seq.map (fun (m, frame) ->\n",
    "            // m,\n",
    "            MesVenta(m, frame.[\"Ingreso\"] |> Stats.sum)\n",
    "            )\n",
    "        |> Seq.toList\n",
    "\n",
    "display(data)"
   ]
  },
  {
   "cell_type": "code",
   "execution_count": null,
   "id": "03093dc0-fdaa-4fe5-ae29-4e6ba475946e",
   "metadata": {},
   "outputs": [],
   "source": [
    "// Graficando\n",
    "open Plotly.NET\n",
    "open Plotly.NET.LayoutObjects\n",
    "open Plotly.NET.TraceObjects\n",
    "\n",
    "// Obteniendo los valores\n",
    "let x = data |> List.map (fun x -> x.Mes) |> List.toArray \n",
    "let y = data |> List.map (fun x -> x.Venta) |> List.toArray\n",
    "\n",
    "let mirroredXAxis =\n",
    "    LinearAxis.init(\n",
    "        Title = Title.init(Text=\"Meses\"),\n",
    "        ShowLine = true,\n",
    "        Mirror = StyleParam.Mirror.AllTicks,\n",
    "        ShowGrid = false,\n",
    "        Ticks = StyleParam.TickOptions.Inside\n",
    "    )\n",
    "\n",
    "let mirroredLogYAxis = \n",
    "    LinearAxis.init(\n",
    "        Title = Title.init(Text=\"Ingreso\"),\n",
    "        AxisType = StyleParam.AxisType.Auto,\n",
    "        ShowLine = true,\n",
    "        Mirror = StyleParam.Mirror.AllTicks,\n",
    "        ShowGrid = false,\n",
    "        Ticks = StyleParam.TickOptions.Inside\n",
    "    )\n",
    "\n",
    "let chart_layout = \n",
    "    let tmp = Layout()\n",
    "    tmp?title<- \"Ventas Mensuales\"\n",
    "    tmp?xaxis<- mirroredXAxis\n",
    "    tmp?yaxis<- mirroredLogYAxis\n",
    "    tmp\n",
    "\n",
    "Chart.Line(\n",
    "        x,y,\n",
    "        ShowMarkers=true,\n",
    "        MarkerSymbol=StyleParam.MarkerSymbol.Square)\n",
    "    |> Chart.withLineStyle(Width=2.,Dash=StyleParam.DrawingStyle.Dot)\n",
    "    |> Chart.withLayout chart_layout"
   ]
  },
  {
   "cell_type": "markdown",
   "id": "69980b30-e53c-4e3e-9fcc-fa3537b3ed54",
   "metadata": {},
   "source": [
    "## Finalmente , nuestro ultimo requerimiento consiste en graficar el comportamiento de sus ventas en las diferentes plataformas donde vende sus productos la empresa.\n",
    "\n",
    "Para ello agruparemos sobre la columna: **Plataforma**"
   ]
  },
  {
   "cell_type": "code",
   "execution_count": 24,
   "id": "7d25fa24-2c2b-482a-b017-2cdfbcea1929",
   "metadata": {},
   "outputs": [
    {
     "data": {
      "text/html": [
       "<table><thead><tr><th><i>index</i></th><th>Plataforma</th><th>Total</th></tr></thead><tbody><tr><td>0</td><td>Website</td><td><div class=\"dni-plaintext\">347315</div></td></tr><tr><td>1</td><td>Facebook</td><td><div class=\"dni-plaintext\">396073</div></td></tr><tr><td>2</td><td>Instagram</td><td><div class=\"dni-plaintext\">1378842</div></td></tr><tr><td>3</td><td>Youtube</td><td><div class=\"dni-plaintext\">449620</div></td></tr></tbody></table>"
      ]
     },
     "metadata": {},
     "output_type": "display_data"
    }
   ],
   "source": [
    "type PlataformaIngreso(plataforma, total)=\n",
    "    member this.Plataforma=plataforma\n",
    "    member this.Total=total\n",
    "\n",
    "let data2 = df |> Frame.groupRowsUsing(fun _ c -> c.GetAs<string>(\"Plataforma\"))\n",
    "            |> Frame.nest\n",
    "            |> Series.observations\n",
    "            |> Seq.map (fun (m, frame) -> PlataformaIngreso(m, frame.[\"Ingreso\"] |> Stats.sum))\n",
    "            |> Seq.toList\n",
    "display(data2)"
   ]
  },
  {
   "cell_type": "code",
   "execution_count": null,
   "id": "0c65c7dd-d062-42ad-87de-6f1983ea8e03",
   "metadata": {},
   "outputs": [],
   "source": [
    "open Plotly.NET.TraceObjects\n",
    "\n",
    "let x2 = data2 |> List.map (fun x -> x.Plataforma) |> List.toArray \n",
    "let y2 = data2 |> List.map (fun x -> x.Total) |> List.toArray \n",
    "\n",
    "let mirroredXAxis2 =\n",
    "    LinearAxis.init(\n",
    "        Title = Title.init(Text=\"Plataforma\"),\n",
    "        ShowLine = true,\n",
    "        Mirror = StyleParam.Mirror.AllTicks,\n",
    "        ShowGrid = false,\n",
    "        Ticks = StyleParam.TickOptions.Inside\n",
    "    )\n",
    "\n",
    "let mirroredLogYAxis2 = \n",
    "    LinearAxis.init(\n",
    "        Title = Title.init(Text=\"Monto\"),\n",
    "        AxisType = StyleParam.AxisType.Auto,\n",
    "        ShowLine = true,\n",
    "        Mirror = StyleParam.Mirror.AllTicks,\n",
    "        ShowGrid = false,\n",
    "        Ticks = StyleParam.TickOptions.Inside\n",
    "    )\n",
    "\n",
    "let chart_layout = \n",
    "    let tmp = Layout()\n",
    "    tmp?title<- \"Ventas x Plataforma\"\n",
    "    tmp?xaxis<- mirroredXAxis2\n",
    "    tmp?yaxis<- mirroredLogYAxis2\n",
    "    tmp\n",
    "\n",
    "let colors = x2 |> Array.map (fun name -> match name with\n",
    "                                                                |\"Website\" -> Color.fromString \"green\"\n",
    "                                                                |\"Facebook\" -> Color.fromString \"blue\"\n",
    "                                                                |\"Youtube\" -> Color.fromString \"red\"\n",
    "                                                                |_ -> Color.fromString \"deeppink\") |> Color.fromColors\n",
    "\n",
    "let markers = Marker.init(Color=colors)\n",
    "\n",
    "\n",
    "Chart.Column(y2,x2)\n",
    "    |> Chart.withLineStyle(Width=2.,Dash=StyleParam.DrawingStyle.Dot)\n",
    "    |> Chart.withLayout chart_layout\n",
    "    |> Chart.withMarker markers"
   ]
  },
  {
   "cell_type": "markdown",
   "id": "aa908473-cae9-4d46-84f4-a4094547af8d",
   "metadata": {},
   "source": [
    "# Antes de terminar\n",
    "\n",
    "Plotly tiene una gran variedad de opciones para graficar, incluso nos da la opcion de utilizar mapas para plasmar nuestros datos al estilo de Folium.\n",
    "A continuacion se muestra un ejemplo basico para comenzar a trabajar con mapas y como podemos usarlo en combinacion de un API."
   ]
  },
  {
   "cell_type": "code",
   "execution_count": null,
   "id": "d4962dbc-a09c-45f3-9470-a9baede83736",
   "metadata": {},
   "outputs": [],
   "source": [
    "open System.IO\n",
    "open System.Text\n",
    "open FSharp.Data\n",
    "open Newtonsoft.Json\n",
    "\n",
    "let data = \n",
    "    Http.RequestString \"https://raw.githubusercontent.com/plotly/datasets/master/fips-unemp-16.csv\"\n",
    "    |> fun csv -> Frame.ReadCsvString(csv,true,separators=\",\",schema=\"fips=string,unemp=float\")\n",
    "\n",
    "let geoJson = \n",
    "    Http.RequestString \"https://raw.githubusercontent.com/plotly/datasets/master/geojson-counties-fips.json\"\n",
    "    |> JsonConvert.DeserializeObject \n",
    "\n",
    "let locationsGeoJSON: string [] = \n",
    "    data\n",
    "    |> Frame.getCol \"fips\"\n",
    "    |> Series.values\n",
    "    |> Array.ofSeq\n",
    "let zGeoJSON: int [] = \n",
    "    data\n",
    "    |> Frame.getCol \"unemp\"\n",
    "    |> Series.values\n",
    "    |> Array.ofSeq\n",
    "\n",
    "Chart.ChoroplethMap(\n",
    "    locations = locationsGeoJSON,\n",
    "    z = zGeoJSON,\n",
    "    Locationmode=StyleParam.LocationFormat.GeoJson_Id,\n",
    "    GeoJson = geoJson,\n",
    "    FeatureIdKey=\"id\"\n",
    ")\n",
    "\n",
    "|> Chart.withGeo(\n",
    "    Geo.init(\n",
    "        Scope=StyleParam.GeoScope.NorthAmerica, \n",
    "        Projection=GeoProjection.init(StyleParam.GeoProjectionType.AzimuthalEqualArea),\n",
    "        ShowLand=true,\n",
    "        LandColor = Color.fromString \"lightgrey\"\n",
    "    )\n",
    ")\n",
    "|> Chart.withSize (800.,800.)"
   ]
  },
  {
   "cell_type": "code",
   "execution_count": null,
   "id": "6f420688-cd7f-4b1b-8180-80793d161002",
   "metadata": {},
   "outputs": [],
   "source": []
  }
 ],
 "metadata": {
  "kernelspec": {
   "display_name": ".NET (F#)",
   "language": "F#",
   "name": ".net-fsharp"
  },
  "language_info": {
   "file_extension": ".fs",
   "mimetype": "text/x-fsharp",
   "name": "F#",
   "pygments_lexer": "fsharp",
   "version": "5.0"
  }
 },
 "nbformat": 4,
 "nbformat_minor": 5
}
