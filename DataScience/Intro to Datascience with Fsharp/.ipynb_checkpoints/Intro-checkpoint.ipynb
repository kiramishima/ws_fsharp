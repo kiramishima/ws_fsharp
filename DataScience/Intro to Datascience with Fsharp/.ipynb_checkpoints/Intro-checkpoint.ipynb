{
 "cells": [
  {
   "cell_type": "code",
   "execution_count": null,
   "metadata": {},
   "outputs": [],
   "source": [
    "# Importando Modulos de F#\n",
    "\n",
    "# Creando Variables\n",
    "\n",
    "# Creando Floats\n",
    "\n",
    "\n",
    "# Creando Strings\n"
   ]
  },
  {
   "cell_type": "code",
   "execution_count": null,
   "metadata": {},
   "outputs": [],
   "source": [
    "#r \"nuget:Deedle, 2.1.2\"\n",
    "#r \"nuget:FSharp.Data, 3.3.3\"\n",
    "#r \"nuget:FSharp.Charting, 2.1.0\""
   ]
  },
  {
   "cell_type": "code",
   "execution_count": 2,
   "metadata": {},
   "outputs": [],
   "source": [
    "printfn \"Hello World from F#!\\n\"\n",
    "// Declaracion de variables\n",
    "let a = 5\n",
    "let b = 5\n",
    "// Suma\n",
    "let sum = a + b\n",
    "printf \"%A\\n\" sum\n",
    "\n",
    "// Sustracción\n",
    "let sus = a - 3\n",
    "printf \"%A\\n\" sus\n",
    "\n",
    "//  Division\n",
    "let div = a / b\n",
    "printf \"%A\\n\" div\n",
    "\n",
    "// Potencia\n",
    "let pot = 10.0 ** 2.0\n",
    "printf \"%A\\n\" pot"
   ]
  },
  {
   "cell_type": "code",
   "execution_count": null,
   "metadata": {},
   "outputs": [],
   "source": []
  }
 ],
 "metadata": {
  "kernelspec": {
   "display_name": ".NET (F#)",
   "language": "F#",
   "name": ".net-fsharp"
  },
  "language_info": {
   "file_extension": ".fs",
   "mimetype": "text/x-fsharp",
   "name": "C#",
   "pygments_lexer": "fsharp",
   "version": "4.5"
  }
 },
 "nbformat": 4,
 "nbformat_minor": 4
}
