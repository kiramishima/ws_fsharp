{
 "cells": [
  {
   "cell_type": "code",
   "execution_count": 4,
   "metadata": {},
   "outputs": [],
   "source": [
    "#r \"nuget:XPlot.GoogleCharts, 2.1.2\""
   ]
  },
  {
   "cell_type": "code",
   "execution_count": 7,
   "metadata": {},
   "outputs": [
    {
     "data": {
      "text/html": [
       "<table><thead><tr><th>Height</th><th>Id</th><th>ApiKey</th><th>Width</th></tr></thead><tbody><tr><td>420</td><td>84b53645-8ed0-4f62-a65b-cb42df8540c2</td><td></td><td>-1</td></tr></tbody></table>"
      ]
     },
     "metadata": {},
     "output_type": "display_data"
    }
   ],
   "source": [
    "open XPlot.GoogleCharts\n",
    "\n",
    "let companies = \n",
    "    [\n",
    "        (37.4970,  127.0266, \"Samsung: 20.5%\")\n",
    "        (37.3318, -122.0311, \"Apple: 14.4%\")\n",
    "        (22.5431,  114.0579, \"Huawei: 8.9%\")\n",
    "    ]\n",
    "\n",
    "let options = Options(showTooltips = true, displayMode=\"markers\")\n",
    "\n",
    "let m = companies |> Chart.Geo |> Chart.WithOptions options |> Chart.WithHeight 420\n",
    "m |> Chart.Show\n",
    "display(m)"
   ]
  },
  {
   "cell_type": "code",
   "execution_count": null,
   "metadata": {},
   "outputs": [],
   "source": []
  },
  {
   "cell_type": "code",
   "execution_count": null,
   "metadata": {},
   "outputs": [],
   "source": []
  }
 ],
 "metadata": {
  "kernelspec": {
   "display_name": ".NET (F#)",
   "language": "F#",
   "name": ".net-fsharp"
  },
  "language_info": {
   "file_extension": ".fs",
   "mimetype": "text/x-fsharp",
   "name": "C#",
   "pygments_lexer": "fsharp",
   "version": "4.5"
  }
 },
 "nbformat": 4,
 "nbformat_minor": 4
}
